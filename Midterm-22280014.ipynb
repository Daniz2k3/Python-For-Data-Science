{
 "cells": [
  {
   "cell_type": "markdown",
   "metadata": {},
   "source": [
    "<div style=\"text-align: center;\">\n",
    "    <h1>Midterm Python for Data Science</h1>\n",
    "</div>\n",
    "\n",
    "\n",
    "<div style=\"text-align: left;\">\n",
    "  <h5>Nguyễn Công Tiến Dũng\n",
    "  \n",
    "  MSSV: 22280014</h5>\n",
    "</div>\n"
   ]
  },
  {
   "cell_type": "markdown",
   "metadata": {},
   "source": [
    "# I. Refractor script"
   ]
  },
  {
   "cell_type": "markdown",
   "metadata": {},
   "source": [
    "## 1. Tái cấu trúc và cập nhật mã:"
   ]
  },
  {
   "cell_type": "code",
   "execution_count": 58,
   "metadata": {},
   "outputs": [],
   "source": [
    "class Product:\n",
    "    def __init__(self, info):\n",
    "        self.name = info['name']\n",
    "        self.price = info['price']\n",
    "        self.stock = info['stock']\n",
    "\n",
    "    def apply_discount(self, discount):\n",
    "        return self.price * (1 - discount)\n",
    "\n",
    "    def calculate_tax(self, tax_rate, discounted_price):\n",
    "        return discounted_price * tax_rate\n",
    "    \n",
    "    def update_stock(self, amount):\n",
    "        self.stock += amount\n",
    "\n",
    "    def is_in_stock(self):\n",
    "        return self.stock > 0\n",
    "\n",
    "\n",
    "class Cart:\n",
    "    def __init__(self):\n",
    "        self.products = []\n",
    "\n",
    "    def add_product(self, product):\n",
    "        self.products.append(product)\n",
    "\n",
    "    def remove_product(self, product_name):\n",
    "        self.products = [p for p in self.products if p.name != product_name]\n",
    "\n",
    "    def calculate_total(self, tax_rate, discount):\n",
    "        total = 0\n",
    "        for item in self.products:\n",
    "            discounted_price = item.apply_discount(discount)\n",
    "            tax = item.calculate_tax(tax_rate, discounted_price)\n",
    "            final_price = discounted_price + tax\n",
    "            total += final_price\n",
    "        return round(total, 2)\n",
    "\n",
    "    def list_products(self):\n",
    "        for product in self.products:\n",
    "            print(f\"{product.name}: ${product.price}\")\n",
    "\n",
    "def get_total_stock(products):\n",
    "    return sum(product.stock for product in products)\n",
    "\n",
    "    "
   ]
  },
  {
   "cell_type": "code",
   "execution_count": 59,
   "metadata": {},
   "outputs": [],
   "source": [
    "product = [\n",
    "    {'name': 'Book', 'price': 15.0, 'stock': 10},\n",
    "    {'name': 'Food', 'price': 8.0, 'stock': 20},\n",
    "    {'name': 'Gadget', 'price': 25.0, 'stock': 5}\n",
    "]\n",
    "# Tạo danh sách các sản phẩm\n",
    "Product_list = [Product(p) for p in product]\n"
   ]
  },
  {
   "cell_type": "markdown",
   "metadata": {},
   "source": [
    "## 2. Xây dựng ví dụ"
   ]
  },
  {
   "cell_type": "code",
   "execution_count": 60,
   "metadata": {},
   "outputs": [
    {
     "name": "stdout",
     "output_type": "stream",
     "text": [
      "Total price: $36.96\n",
      "Total stock: 35\n",
      "Book: $15.0\n",
      "Food: $8.0\n",
      "Gadget: $25.0\n"
     ]
    }
   ],
   "source": [
    "cart = Cart()\n",
    "for p in Product_list:\n",
    "    cart.add_product(p)\n",
    "\n",
    "# tính tổng giá sau khi áp dụng thuế và giảm giá\n",
    "tax_rate = 0.1\n",
    "discount = 0.3\n",
    "total_price = cart.calculate_total(tax_rate, discount)\n",
    "print(f\"Total price: ${total_price}\")\n",
    "\n",
    "# tính tổng số lượng hàng trong kho\n",
    "total_stock = get_total_stock(Product_list)\n",
    "print(f\"Total stock: {total_stock}\")\n",
    "\n",
    "# danh sách các sản phẩm trong giỏ hàng\n",
    "cart.list_products()\n"
   ]
  },
  {
   "cell_type": "markdown",
   "metadata": {},
   "source": [
    "# II. Viết hàm từ flowchart"
   ]
  },
  {
   "cell_type": "code",
   "execution_count": 63,
   "metadata": {},
   "outputs": [
    {
     "name": "stdout",
     "output_type": "stream",
     "text": [
      "Dãy số Fibonacci với n = 15 là:\n",
      "0\n",
      "1\n",
      "1\n",
      "2\n",
      "3\n",
      "5\n",
      "8\n",
      "13\n",
      "21\n",
      "34\n",
      "55\n",
      "89\n",
      "144\n",
      "233\n",
      "377\n",
      "610\n"
     ]
    }
   ],
   "source": [
    "def func(n):\n",
    "    a = 0\n",
    "    b = 1\n",
    "    count = 2\n",
    "\n",
    "    write(a)\n",
    "    write(b)\n",
    "\n",
    "    while count <= n:\n",
    "        next = a + b\n",
    "        write(next)\n",
    "        a = b\n",
    "        b = next\n",
    "        count += 1\n",
    "\n",
    "def write(a):\n",
    "    print(a)\n",
    "\n",
    "# người dùng nhập giá trị n\n",
    "n = int(input(\"Nhập n tương ứng với dãy số Fibonacci:\"))\n",
    "print(f\"Dãy số Fibonacci với n = {n} là:\")\n",
    "func(n)\n"
   ]
  },
  {
   "cell_type": "markdown",
   "metadata": {},
   "source": [
    "#### Hàm này triển khải thuật toán dùng để xây dưng dãy số Fibonacci bằng cách khởi tạo 2 biến số ban đầu a=0 và b=1 sau đó cho vào vòng lặp while để cộng 2 biến a,b vào biến mới next sau đó tiếp tục gán các giá trị a=b, b=next để tiếp tục vòng lặp để bằng cách tăng count cho đến khi count < n (input đầu vào) để dừng thuật toán tại vị trí đã chọn."
   ]
  }
 ],
 "metadata": {
  "kernelspec": {
   "display_name": "py310",
   "language": "python",
   "name": "python3"
  },
  "language_info": {
   "codemirror_mode": {
    "name": "ipython",
    "version": 3
   },
   "file_extension": ".py",
   "mimetype": "text/x-python",
   "name": "python",
   "nbconvert_exporter": "python",
   "pygments_lexer": "ipython3",
   "version": "3.10.15"
  }
 },
 "nbformat": 4,
 "nbformat_minor": 2
}
